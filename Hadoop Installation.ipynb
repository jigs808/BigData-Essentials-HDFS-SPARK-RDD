{
 "cells": [
  {
   "cell_type": "code",
   "execution_count": 1,
   "metadata": {},
   "outputs": [
    {
     "name": "stdout",
     "output_type": "stream",
     "text": [
      "'Hadoop Installation.ipynb'   LICENSE\r\n"
     ]
    }
   ],
   "source": [
    "# use '!' to access shell commands in the notebook\n",
    "!ls"
   ]
  },
  {
   "cell_type": "markdown",
   "metadata": {},
   "source": [
    "## Installing Prerequisites"
   ]
  },
  {
   "cell_type": "markdown",
   "metadata": {},
   "source": [
    "Start with installing prerequisites:\n",
    "\n",
    "### JAVA-JDK"
   ]
  },
  {
   "cell_type": "code",
   "execution_count": 3,
   "metadata": {},
   "outputs": [
    {
     "name": "stdout",
     "output_type": "stream",
     "text": [
      "[sudo] password for incursio: \n"
     ]
    }
   ],
   "source": [
    "!sudo apt-get install default-java"
   ]
  },
  {
   "cell_type": "markdown",
   "metadata": {},
   "source": [
    "In jupyter notebook, ``sudo`` command will then require PASS_KEY but you won't be able to ENTER your password. Therefore, below two are methods to input password to run ``sudo`` command."
   ]
  },
  {
   "cell_type": "markdown",
   "metadata": {},
   "source": [
    "#### use echo to give your PASS_KEY as an input"
   ]
  },
  {
   "cell_type": "code",
   "execution_count": 34,
   "metadata": {
    "scrolled": true
   },
   "outputs": [
    {
     "name": "stdout",
     "output_type": "stream",
     "text": [
      "Reading package lists... Done \n",
      "Building dependency tree       \n",
      "Reading state information... Done\n",
      "default-jdk is already the newest version (2:1.10-63ubuntu1~02).\n",
      "0 upgraded, 0 newly installed, 0 to remove and 6 not upgraded.\n"
     ]
    }
   ],
   "source": [
    "!echo 'XXXXXXXX' | sudo -S apt-get install default-jdk"
   ]
  },
  {
   "cell_type": "markdown",
   "metadata": {},
   "source": [
    "#### save you password in a file and use it to provide PASS_KEY"
   ]
  },
  {
   "cell_type": "code",
   "execution_count": 35,
   "metadata": {},
   "outputs": [
    {
     "name": "stdout",
     "output_type": "stream",
     "text": [
      "Reading package lists... Done \n",
      "Building dependency tree       \n",
      "Reading state information... Done\n",
      "default-jdk is already the newest version (2:1.10-63ubuntu1~02).\n",
      "0 upgraded, 0 newly installed, 0 to remove and 6 not upgraded.\n"
     ]
    }
   ],
   "source": [
    "!sudo -S apt-get install default-jdk < /path/to/file"
   ]
  },
  {
   "cell_type": "markdown",
   "metadata": {},
   "source": [
    "### Add a Dedicated hadoop user\n",
    "\n",
    "It'll create a new user to install/run hadoop keeping it separated from other user accounts."
   ]
  },
  {
   "cell_type": "code",
   "execution_count": 53,
   "metadata": {
    "collapsed": true
   },
   "outputs": [
    {
     "name": "stdout",
     "output_type": "stream",
     "text": [
      "[sudo] password for incursio: Sorry, try again.\n",
      "[sudo] password for incursio: \n",
      "sudo: 1 incorrect password attempt\n",
      "[sudo] password for incursio: Sorry, try again.\n",
      "[sudo] password for incursio: \n",
      "sudo: 1 incorrect password attempt\n"
     ]
    }
   ],
   "source": [
    "#!sudo -S addgroup hadoop < /path/to/file\n",
    "#!sudo adduser --ingroup hadoop hduser < path/to/file\n",
    "\n",
    "PASS_KEY = 'XXXXXXX'\n",
    "!echo $PASS_KEY | sudo -S addgroup hadoop\n",
    "!echo $PASS_KEY | sudo -S adduser --ingroup hadoop hduser "
   ]
  },
  {
   "cell_type": "markdown",
   "metadata": {},
   "source": [
    "### Configuring SSH"
   ]
  },
  {
   "cell_type": "code",
   "execution_count": 48,
   "metadata": {},
   "outputs": [
    {
     "name": "stdout",
     "output_type": "stream",
     "text": [
      "su: must be run from a terminal\r\n"
     ]
    }
   ],
   "source": [
    "!echo PASS_KEY | su - hduser"
   ]
  },
  {
   "cell_type": "markdown",
   "metadata": {},
   "source": [
    "Now, to execute following commands you will have to open the terminal.\n",
    "\n",
    "**Copy the following cell(s)**\n",
    "\n",
    "The below command will transfer the terminal access to newly created ``hduser``"
   ]
  },
  {
   "cell_type": "code",
   "execution_count": null,
   "metadata": {},
   "outputs": [],
   "source": [
    "su - hduser"
   ]
  },
  {
   "cell_type": "markdown",
   "metadata": {},
   "source": [
    "Hadoop requires an SSH access to manage nodes present all over the cluster. This command will generate an SSH key with empty(string) password.\n",
    "In general, it's not recommended to use empty(string) password, but since we don't want to enter the passphrase each time Hadoop connects to its nodes therefore, **leave it empty**."
   ]
  },
  {
   "cell_type": "code",
   "execution_count": null,
   "metadata": {},
   "outputs": [],
   "source": [
    "ssh-keygen -t rsa -P \"\""
   ]
  },
  {
   "cell_type": "markdown",
   "metadata": {},
   "source": [
    "The command creates a new file and appends generated key to it. "
   ]
  },
  {
   "cell_type": "code",
   "execution_count": null,
   "metadata": {},
   "outputs": [],
   "source": [
    "cat .ssh/id_rsa.pub >> .ssh/authorized_keys"
   ]
  },
  {
   "cell_type": "markdown",
   "metadata": {},
   "source": [
    "Now we'll need root access through ``hduser``, thus we'll add ``hduser`` to the list of sudoers."
   ]
  },
  {
   "cell_type": "code",
   "execution_count": null,
   "metadata": {},
   "outputs": [],
   "source": [
    "#open nano to edit /etc/sudoers.tmp\n",
    "sudo visudo\n",
    "\n",
    "#and append the following at the EOF\n",
    "hduser ALL=(ALL:ALL) ALL"
   ]
  },
  {
   "cell_type": "markdown",
   "metadata": {},
   "source": [
    "We want to disable IPv6."
   ]
  },
  {
   "cell_type": "code",
   "execution_count": null,
   "metadata": {},
   "outputs": [],
   "source": [
    "#open system call configuration file\n",
    "sudo gedit /etc/sysctl.conf\n",
    "\n",
    "#and append the following at the EOF\n",
    "#disable ipv6  \n",
    "net.ipv6.conf.all.disable_ipv6 = 1  \n",
    "net.ipv6.conf.default.disable_ipv6 = 1   \n",
    "net.ipv6.conf.lo.disable_ipv6 = 1"
   ]
  },
  {
   "cell_type": "markdown",
   "metadata": {},
   "source": [
    "Now, **reboot** system. On boot, check whether the ipv6 has been disabled."
   ]
  },
  {
   "cell_type": "code",
   "execution_count": null,
   "metadata": {},
   "outputs": [],
   "source": [
    "#it should return 1\n",
    "cat /proc/sys/net/ipv6/conf/all/disable_ipv6"
   ]
  },
  {
   "cell_type": "markdown",
   "metadata": {},
   "source": [
    "## Install hadoop"
   ]
  },
  {
   "cell_type": "markdown",
   "metadata": {},
   "source": [
    "Run the following cell(s) in the terminal with access to ``hduser``"
   ]
  },
  {
   "cell_type": "code",
   "execution_count": null,
   "metadata": {},
   "outputs": [],
   "source": [
    "#change directory\n",
    "cd /usr/local\n",
    "\n",
    "#download hadoop 3.1 in this directory\n",
    "#to download other/newer version check the link http://www-eu.apache.org/dist/hadoop/core/\n",
    "wget http://www-eu.apache.org/dist/hadoop/core/hadoop-3.1.0/hadoop-3.1.0.tar.gz\n",
    "\n",
    "#extract the tar file\n",
    "sudo tar xzf hadoop-3.1.0.tar.gz\n",
    "\n",
    "#rename it to hadoop\n",
    "sudo mv hadoop-3.1.0 hadoop\n",
    "\n",
    "#change the owner of files to hduser\n",
    "sudo chown -R hduser:hadoop hadoop"
   ]
  },
  {
   "cell_type": "code",
   "execution_count": null,
   "metadata": {},
   "outputs": [],
   "source": []
  }
 ],
 "metadata": {
  "kernelspec": {
   "display_name": "Python 3",
   "language": "python",
   "name": "python3"
  },
  "language_info": {
   "codemirror_mode": {
    "name": "ipython",
    "version": 3
   },
   "file_extension": ".py",
   "mimetype": "text/x-python",
   "name": "python",
   "nbconvert_exporter": "python",
   "pygments_lexer": "ipython3",
   "version": "3.6.1"
  },
  "toc": {
   "base_numbering": 1,
   "nav_menu": {},
   "number_sections": true,
   "sideBar": true,
   "skip_h1_title": false,
   "title_cell": "Table of Contents",
   "title_sidebar": "Contents",
   "toc_cell": false,
   "toc_position": {
    "height": "calc(100% - 180px)",
    "left": "10px",
    "top": "150px",
    "width": "165px"
   },
   "toc_section_display": true,
   "toc_window_display": true
  }
 },
 "nbformat": 4,
 "nbformat_minor": 2
}
