{
 "cells": [
  {
   "cell_type": "markdown",
   "metadata": {
    "colab_type": "text",
    "id": "Ebk-YqgqEOw1"
   },
   "source": [
    "# Hadoop Streaming assignment 1: Words Rating"
   ]
  },
  {
   "cell_type": "markdown",
   "metadata": {
    "colab_type": "text",
    "id": "XDLjl7hGEOw2"
   },
   "source": [
    "The purpose of this task is to create your own WordCount program for Wikipedia dump processing and learn basic concepts of the MapReduce.\n",
    "\n",
    "In this task you have to find the 7th word by popularity and its quantity in the reverse order (most popular first) in Wikipedia data (`/data/wiki/en_articles_part`).\n",
    "\n",
    "There are several points for this task:\n",
    "\n",
    "1) As an output, you have to get the 7th word and its quantity separated by a tab character.\n",
    "\n",
    "2) You must use the second job to obtain a totally ordered result.\n",
    "\n",
    "3) Do not forget to redirect all trash and output to /dev/null.\n",
    "\n",
    "Here you can find the draft of the task main steps. You can use other methods for solution obtaining."
   ]
  },
  {
   "cell_type": "markdown",
   "metadata": {
    "colab_type": "text",
    "id": "lIUikVIDEOw2"
   },
   "source": [
    "## Step 1. Create mapper and reducer.\n",
    "\n",
    "<b>Hint:</b>  Demo task contains almost all the necessary pieces to complete this assignment. You may use the demo to implement the first MapReduce Job."
   ]
  },
  {
   "cell_type": "code",
   "execution_count": 1,
   "metadata": {
    "colab": {
     "autoexec": {
      "startup": false,
      "wait_interval": 0
     }
    },
    "colab_type": "code",
    "id": "A7T5mxDwEOw4"
   },
   "outputs": [
    {
     "name": "stdout",
     "output_type": "stream",
     "text": [
      "Writing mapper1.py\n"
     ]
    }
   ],
   "source": [
    "%%writefile mapper1.py\n",
    "\n",
    "# Your code for mapper here.\n",
    "import sys\n",
    "import re\n",
    "\n",
    "reload(sys)\n",
    "sys.setdefaultencoding('utf-8') # required to convert to unicode\n",
    "\n",
    "for line in sys.stdin:\n",
    "    try:\n",
    "        article_id, text = unicode(line.strip()).split('\\t', 1)\n",
    "    except ValueError as e:\n",
    "        continue\n",
    "    words = re.split(\"\\W*\\s+\\W*\", text, flags=re.UNICODE)\n",
    "    for word in words:\n",
    "        print >> sys.stderr, \"reporter:counter:Wiki stats,Total words,%d\" % 1\n",
    "        print \"%s\\t%d\" % (word.lower(), 1)"
   ]
  },
  {
   "cell_type": "code",
   "execution_count": 2,
   "metadata": {
    "colab": {
     "autoexec": {
      "startup": false,
      "wait_interval": 0
     }
    },
    "colab_type": "code",
    "id": "oE8KFKqpEOw5"
   },
   "outputs": [
    {
     "name": "stdout",
     "output_type": "stream",
     "text": [
      "Writing reducer1.py\n"
     ]
    }
   ],
   "source": [
    "%%writefile reducer1.py\n",
    "\n",
    "# Your code for reducer here.\n",
    "import sys\n",
    "\n",
    "current_key = None\n",
    "word_sum = 0\n",
    "\n",
    "for line in sys.stdin:\n",
    "    try:\n",
    "        key, count = line.strip().split('\\t', 1)\n",
    "        count = int(count)\n",
    "    except ValueError as e:\n",
    "        continue\n",
    "    if current_key != key:\n",
    "        if current_key:\n",
    "            print \"%s\\t%d\" % (current_key, word_sum)\n",
    "        word_sum = 0\n",
    "        current_key = key\n",
    "    word_sum += count\n",
    "\n",
    "if current_key:\n",
    "    print \"%s\\t%d\" % (current_key, word_sum)"
   ]
  },
  {
   "cell_type": "code",
   "execution_count": 0,
   "metadata": {
    "colab": {
     "autoexec": {
      "startup": false,
      "wait_interval": 0
     }
    },
    "colab_type": "code",
    "id": "LJtc3_u0uXSz"
   },
   "outputs": [],
   "source": [
    "# You can use this cell for other experiments: for example, for combiner."
   ]
  },
  {
   "cell_type": "markdown",
   "metadata": {
    "colab_type": "text",
    "id": "KYZpcwY9EOw6"
   },
   "source": [
    "## Step 2. Create sort job.\n",
    "\n",
    "<b>Hint:</b> You may use MapReduce comparator to solve this step. Make sure that the keys are sorted in ascending order."
   ]
  },
  {
   "cell_type": "code",
   "execution_count": 0,
   "metadata": {
    "colab": {
     "autoexec": {
      "startup": false,
      "wait_interval": 0
     }
    },
    "colab_type": "code",
    "id": "g-NMzQ79EOw7"
   },
   "outputs": [],
   "source": [
    "# Your code for sort job here. Don't forget to use magic writefile"
   ]
  },
  {
   "cell_type": "code",
   "execution_count": 6,
   "metadata": {
    "colab": {
     "autoexec": {
      "startup": false,
      "wait_interval": 0
     }
    },
    "colab_type": "code",
    "id": "qs6SKs7wO4be"
   },
   "outputs": [
    {
     "name": "stdout",
     "output_type": "stream",
     "text": [
      "Overwriting mapper2.py\n"
     ]
    }
   ],
   "source": [
    "%%writefile mapper2.py\n",
    "\n",
    "import sys\n",
    "reload(sys)\n",
    "\n",
    "for line in sys.stdin:\n",
    "    try:\n",
    "        word, count = line.strip().split('\\t', 1)\n",
    "        count = int(count)\n",
    "        print '%d\\t%s' % (count, word)\n",
    "    except ValueError as e:\n",
    "        continue"
   ]
  },
  {
   "cell_type": "code",
   "execution_count": 7,
   "metadata": {},
   "outputs": [
    {
     "name": "stdout",
     "output_type": "stream",
     "text": [
      "Overwriting reducer2.py\n"
     ]
    }
   ],
   "source": [
    "%%writefile reducer2.py\n",
    "\n",
    "import sys\n",
    "reload(sys)\n",
    "\n",
    "for line in sys.stdin:\n",
    "    try:\n",
    "        count, word = line.strip().split('\\t', 1)\n",
    "        count = int(count)\n",
    "        print '%s\\t%d' % (word, count)\n",
    "    except ValueError as e:\n",
    "        continue"
   ]
  },
  {
   "cell_type": "markdown",
   "metadata": {
    "colab_type": "text",
    "id": "4OBE81GZEOw8"
   },
   "source": [
    "## Step 3. Bash commands\n",
    "\n",
    "<b> Hint: </b> For printing the exact row you may use basic UNIX commands. For instance, sed/head/tail/... (if you know other commands, you can use them).\n",
    "\n",
    "To run both jobs, you must use two consecutive yarn-commands. Remember that the input for the second job is the ouput for the first job."
   ]
  },
  {
   "cell_type": "code",
   "execution_count": 9,
   "metadata": {
    "colab": {
     "autoexec": {
      "startup": false,
      "wait_interval": 0
     }
    },
    "colab_type": "code",
    "id": "1q9NczdIEOw9"
   },
   "outputs": [
    {
     "name": "stdout",
     "output_type": "stream",
     "text": [
      "is\t126420\n"
     ]
    },
    {
     "name": "stderr",
     "output_type": "stream",
     "text": [
      "rm: `assignment1_wordcount_1534486609377997': No such file or directory\n",
      "18/08/17 06:16:53 INFO client.RMProxy: Connecting to ResourceManager at /0.0.0.0:8032\n",
      "18/08/17 06:16:53 INFO client.RMProxy: Connecting to ResourceManager at /0.0.0.0:8032\n",
      "18/08/17 06:16:54 INFO mapred.FileInputFormat: Total input files to process : 1\n",
      "18/08/17 06:16:54 INFO mapreduce.JobSubmitter: number of splits:2\n",
      "18/08/17 06:16:54 INFO mapreduce.JobSubmitter: Submitting tokens for job: job_1534370228375_0013\n",
      "18/08/17 06:16:54 INFO impl.YarnClientImpl: Submitted application application_1534370228375_0013\n",
      "18/08/17 06:16:55 INFO mapreduce.Job: The url to track the job: http://94eb3f8bc528:8088/proxy/application_1534370228375_0013/\n",
      "18/08/17 06:16:55 INFO mapreduce.Job: Running job: job_1534370228375_0013\n",
      "18/08/17 06:17:02 INFO mapreduce.Job: Job job_1534370228375_0013 running in uber mode : false\n",
      "18/08/17 06:17:02 INFO mapreduce.Job:  map 0% reduce 0%\n",
      "18/08/17 06:17:18 INFO mapreduce.Job:  map 28% reduce 0%\n",
      "18/08/17 06:17:24 INFO mapreduce.Job:  map 42% reduce 0%\n",
      "18/08/17 06:17:30 INFO mapreduce.Job:  map 48% reduce 0%\n",
      "18/08/17 06:17:36 INFO mapreduce.Job:  map 56% reduce 0%\n",
      "18/08/17 06:17:42 INFO mapreduce.Job:  map 77% reduce 0%\n",
      "18/08/17 06:17:48 INFO mapreduce.Job:  map 83% reduce 0%\n",
      "18/08/17 06:17:55 INFO mapreduce.Job:  map 100% reduce 13%\n",
      "18/08/17 06:17:56 INFO mapreduce.Job:  map 100% reduce 63%\n",
      "18/08/17 06:17:59 INFO mapreduce.Job:  map 100% reduce 88%\n",
      "18/08/17 06:18:00 INFO mapreduce.Job:  map 100% reduce 100%\n",
      "18/08/17 06:18:00 INFO mapreduce.Job: Job job_1534370228375_0013 completed successfully\n",
      "18/08/17 06:18:00 INFO mapreduce.Job: Counters: 51\n",
      "\tFile System Counters\n",
      "\t\tFILE: Number of bytes read=17954826\n",
      "\t\tFILE: Number of bytes written=28258223\n",
      "\t\tFILE: Number of read operations=0\n",
      "\t\tFILE: Number of large read operations=0\n",
      "\t\tFILE: Number of write operations=0\n",
      "\t\tHDFS: Number of bytes read=76874501\n",
      "\t\tHDFS: Number of bytes written=5370513\n",
      "\t\tHDFS: Number of read operations=30\n",
      "\t\tHDFS: Number of large read operations=0\n",
      "\t\tHDFS: Number of write operations=16\n",
      "\tJob Counters \n",
      "\t\tKilled reduce tasks=1\n",
      "\t\tLaunched map tasks=2\n",
      "\t\tLaunched reduce tasks=8\n",
      "\t\tData-local map tasks=2\n",
      "\t\tTotal time spent by all maps in occupied slots (ms)=89237\n",
      "\t\tTotal time spent by all reduces in occupied slots (ms)=56195\n",
      "\t\tTotal time spent by all map tasks (ms)=89237\n",
      "\t\tTotal time spent by all reduce tasks (ms)=56195\n",
      "\t\tTotal vcore-milliseconds taken by all map tasks=89237\n",
      "\t\tTotal vcore-milliseconds taken by all reduce tasks=56195\n",
      "\t\tTotal megabyte-milliseconds taken by all map tasks=91378688\n",
      "\t\tTotal megabyte-milliseconds taken by all reduce tasks=57543680\n",
      "\tMap-Reduce Framework\n",
      "\t\tMap input records=4100\n",
      "\t\tMap output records=11937375\n",
      "\t\tMap output bytes=97842436\n",
      "\t\tMap output materialized bytes=8952763\n",
      "\t\tInput split bytes=228\n",
      "\t\tCombine input records=11937375\n",
      "\t\tCombine output records=640011\n",
      "\t\tReduce input groups=427175\n",
      "\t\tReduce shuffle bytes=8952763\n",
      "\t\tReduce input records=640011\n",
      "\t\tReduce output records=427175\n",
      "\t\tSpilled Records=1920033\n",
      "\t\tShuffled Maps =16\n",
      "\t\tFailed Shuffles=0\n",
      "\t\tMerged Map outputs=16\n",
      "\t\tGC time elapsed (ms)=1313\n",
      "\t\tCPU time spent (ms)=166360\n",
      "\t\tPhysical memory (bytes) snapshot=2304663552\n",
      "\t\tVirtual memory (bytes) snapshot=20216516608\n",
      "\t\tTotal committed heap usage (bytes)=1602748416\n",
      "\tShuffle Errors\n",
      "\t\tBAD_ID=0\n",
      "\t\tCONNECTION=0\n",
      "\t\tIO_ERROR=0\n",
      "\t\tWRONG_LENGTH=0\n",
      "\t\tWRONG_MAP=0\n",
      "\t\tWRONG_REDUCE=0\n",
      "\tWiki stats\n",
      "\t\tTotal words=11937375\n",
      "\tFile Input Format Counters \n",
      "\t\tBytes Read=76874273\n",
      "\tFile Output Format Counters \n",
      "\t\tBytes Written=5370513\n",
      "18/08/17 06:18:00 INFO streaming.StreamJob: Output directory: assignment1_wordcount_1534486609377997\n",
      "rm: `assignment1_sorting_1534486680927516': No such file or directory\n",
      "18/08/17 06:18:04 INFO client.RMProxy: Connecting to ResourceManager at /0.0.0.0:8032\n",
      "18/08/17 06:18:04 INFO client.RMProxy: Connecting to ResourceManager at /0.0.0.0:8032\n",
      "18/08/17 06:18:05 INFO mapred.FileInputFormat: Total input files to process : 8\n",
      "18/08/17 06:18:05 INFO mapreduce.JobSubmitter: number of splits:8\n",
      "18/08/17 06:18:05 INFO mapreduce.JobSubmitter: Submitting tokens for job: job_1534370228375_0014\n",
      "18/08/17 06:18:05 INFO impl.YarnClientImpl: Submitted application application_1534370228375_0014\n",
      "18/08/17 06:18:05 INFO mapreduce.Job: The url to track the job: http://94eb3f8bc528:8088/proxy/application_1534370228375_0014/\n",
      "18/08/17 06:18:05 INFO mapreduce.Job: Running job: job_1534370228375_0014\n",
      "18/08/17 06:18:11 INFO mapreduce.Job: Job job_1534370228375_0014 running in uber mode : false\n",
      "18/08/17 06:18:11 INFO mapreduce.Job:  map 0% reduce 0%\n",
      "18/08/17 06:18:16 INFO mapreduce.Job:  map 13% reduce 0%\n",
      "18/08/17 06:18:17 INFO mapreduce.Job:  map 75% reduce 0%\n",
      "18/08/17 06:18:20 INFO mapreduce.Job:  map 88% reduce 0%\n",
      "18/08/17 06:18:21 INFO mapreduce.Job:  map 100% reduce 0%\n",
      "18/08/17 06:18:23 INFO mapreduce.Job:  map 100% reduce 100%\n",
      "18/08/17 06:18:23 INFO mapreduce.Job: Job job_1534370228375_0014 completed successfully\n",
      "18/08/17 06:18:24 INFO mapreduce.Job: Counters: 50\n",
      "\tFile System Counters\n",
      "\t\tFILE: Number of bytes read=6224888\n",
      "\t\tFILE: Number of bytes written=13710339\n",
      "\t\tFILE: Number of read operations=0\n",
      "\t\tFILE: Number of large read operations=0\n",
      "\t\tFILE: Number of write operations=0\n",
      "\t\tHDFS: Number of bytes read=5371593\n",
      "\t\tHDFS: Number of bytes written=5370513\n",
      "\t\tHDFS: Number of read operations=27\n",
      "\t\tHDFS: Number of large read operations=0\n",
      "\t\tHDFS: Number of write operations=2\n",
      "\tJob Counters \n",
      "\t\tKilled map tasks=1\n",
      "\t\tLaunched map tasks=8\n",
      "\t\tLaunched reduce tasks=1\n",
      "\t\tData-local map tasks=8\n",
      "\t\tTotal time spent by all maps in occupied slots (ms)=26584\n",
      "\t\tTotal time spent by all reduces in occupied slots (ms)=3953\n",
      "\t\tTotal time spent by all map tasks (ms)=26584\n",
      "\t\tTotal time spent by all reduce tasks (ms)=3953\n",
      "\t\tTotal vcore-milliseconds taken by all map tasks=26584\n",
      "\t\tTotal vcore-milliseconds taken by all reduce tasks=3953\n",
      "\t\tTotal megabyte-milliseconds taken by all map tasks=27222016\n",
      "\t\tTotal megabyte-milliseconds taken by all reduce tasks=4047872\n",
      "\tMap-Reduce Framework\n",
      "\t\tMap input records=427175\n",
      "\t\tMap output records=427175\n",
      "\t\tMap output bytes=5370522\n",
      "\t\tMap output materialized bytes=6224930\n",
      "\t\tInput split bytes=1080\n",
      "\t\tCombine input records=0\n",
      "\t\tCombine output records=0\n",
      "\t\tReduce input groups=2075\n",
      "\t\tReduce shuffle bytes=6224930\n",
      "\t\tReduce input records=427175\n",
      "\t\tReduce output records=427175\n",
      "\t\tSpilled Records=854350\n",
      "\t\tShuffled Maps =8\n",
      "\t\tFailed Shuffles=0\n",
      "\t\tMerged Map outputs=8\n",
      "\t\tGC time elapsed (ms)=991\n",
      "\t\tCPU time spent (ms)=16860\n",
      "\t\tPhysical memory (bytes) snapshot=2560761856\n",
      "\t\tVirtual memory (bytes) snapshot=18105384960\n",
      "\t\tTotal committed heap usage (bytes)=1762656256\n",
      "\tShuffle Errors\n",
      "\t\tBAD_ID=0\n",
      "\t\tCONNECTION=0\n",
      "\t\tIO_ERROR=0\n",
      "\t\tWRONG_LENGTH=0\n",
      "\t\tWRONG_MAP=0\n",
      "\t\tWRONG_REDUCE=0\n",
      "\tFile Input Format Counters \n",
      "\t\tBytes Read=5370513\n",
      "\tFile Output Format Counters \n",
      "\t\tBytes Written=5370513\n",
      "18/08/17 06:18:24 INFO streaming.StreamJob: Output directory: assignment1_sorting_1534486680927516\n"
     ]
    }
   ],
   "source": [
    "%%bash\n",
    "\n",
    "OUT_DIR=\"assignment1_wordcount_\"$(date +\"%s%6N\")\n",
    "\n",
    "NUM_REDUCERS=8\n",
    "\n",
    "hdfs dfs -rm -r -skipTrash ${OUT_DIR} > /dev/null\n",
    "\n",
    "# Code for your first job\n",
    "# yarn jar /opt/cloudera/parcels/CDH/lib/hadoop-mapreduce/hadoop-streaming.jar ...\n",
    "yarn jar /opt/cloudera/parcels/CDH/lib/hadoop-mapreduce/hadoop-streaming.jar \\\n",
    "    -D mapred.jab.name=\"Streaming wordCount\" \\\n",
    "    -D mapreduce.job.reduces=${NUM_REDUCERS} \\\n",
    "    -files mapper1.py,reducer1.py \\\n",
    "    -mapper \"python mapper1.py\" \\\n",
    "    -combiner \"python reducer1.py\" \\\n",
    "    -reducer \"python reducer1.py\" \\\n",
    "    -input /data/wiki/en_articles_part \\\n",
    "    -output ${OUT_DIR} > /dev/null\n",
    "\n",
    "OUT_DIR1=\"assignment1_sorting_\"$(date +\"%s%6N\")\n",
    "\n",
    "NUM_REDUCERS=1\n",
    "\n",
    "hdfs dfs -rm -r -skipTrash ${OUT_DIR1} > /dev/null\n",
    "\n",
    "# Code for your second job\n",
    "# yarn jar /opt/cloudera/parcels/CDH/lib/hadoop-mapreduce/hadoop-streaming.jar ...\n",
    "yarn jar /opt/cloudera/parcels/CDH/lib/hadoop-mapreduce/hadoop-streaming.jar \\\n",
    "    -D mapred.jab.name=\"Streaming sorting\" \\\n",
    "    -D mapreduce.job.reduces=${NUM_REDUCERS} \\\n",
    "    -D mapreduce.job.output.key.comparator.class=org.apache.hadoop.mapreduce.lib.partition.KeyFieldBasedComparator \\\n",
    "    -D mapreduce.partition.keycomparator.options=\"-nr\" \\\n",
    "    -files mapper2.py,reducer2.py \\\n",
    "    -mapper \"python mapper2.py\" \\\n",
    "    -reducer \"python reducer2.py\" \\\n",
    "    -input ${OUT_DIR} \\\n",
    "    -output ${OUT_DIR1} > /dev/null\n",
    "\n",
    "# Code for obtaining the results\n",
    "hdfs dfs -cat ${OUT_DIR1}/part-00000 | sed -n 7p\n",
    "hdfs dfs -rm -r -skipTrash ${OUT_DIR1}* > /dev/null"
   ]
  },
  {
   "cell_type": "code",
   "execution_count": null,
   "metadata": {},
   "outputs": [],
   "source": []
  }
 ],
 "metadata": {
  "colab": {
   "collapsed_sections": [],
   "default_view": {},
   "name": "701_to_students.ipynb",
   "provenance": [],
   "version": "0.3.2",
   "views": {}
  },
  "kernelspec": {
   "display_name": "Python 3",
   "language": "python",
   "name": "python3"
  },
  "language_info": {
   "codemirror_mode": {
    "name": "ipython",
    "version": 3
   },
   "file_extension": ".py",
   "mimetype": "text/x-python",
   "name": "python",
   "nbconvert_exporter": "python",
   "pygments_lexer": "ipython3",
   "version": "3.6.1"
  },
  "toc": {
   "base_numbering": 1,
   "nav_menu": {},
   "number_sections": true,
   "sideBar": true,
   "skip_h1_title": false,
   "title_cell": "Table of Contents",
   "title_sidebar": "Contents",
   "toc_cell": false,
   "toc_position": {},
   "toc_section_display": true,
   "toc_window_display": false
  }
 },
 "nbformat": 4,
 "nbformat_minor": 1
}
