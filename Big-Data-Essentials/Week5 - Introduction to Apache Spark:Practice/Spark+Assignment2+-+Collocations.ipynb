{
 "cells": [
  {
   "cell_type": "code",
   "execution_count": 1,
   "metadata": {},
   "outputs": [],
   "source": [
    "#! /usr/bin/env python\n",
    "\n",
    "from pyspark import SparkConf, SparkContext\n",
    "sc = SparkContext(conf=SparkConf().setAppName(\"MyApp\").setMaster(\"local[2]\"))\n",
    "\n",
    "import math\n",
    "import re"
   ]
  },
  {
   "cell_type": "code",
   "execution_count": 3,
   "metadata": {},
   "outputs": [],
   "source": [
    "with open('/datasets/stop_words_en.txt') as f:\n",
    "    stop_words = [word.strip() for word in f]"
   ]
  },
  {
   "cell_type": "code",
   "execution_count": 17,
   "metadata": {},
   "outputs": [],
   "source": [
    "def npmi(word1, word2, count, word_count_dict, total_words, total_pairs):\n",
    "    p_a = word_count_dict[word1] / total_words\n",
    "    p_b = word_count_dict[word2] / total_words\n",
    "    p_a_b = count / total_pairs\n",
    "    return - math.log(p_a_b / (p_a * p_b)) / math.log(p_a_b) "
   ]
  },
  {
   "cell_type": "code",
   "execution_count": 5,
   "metadata": {},
   "outputs": [],
   "source": [
    "def parse_article(line):\n",
    "    try:\n",
    "        article_id, text = unicode(line.rstrip()).split('\\t', 1)\n",
    "        text = re.sub(\"^\\W+|\\W+$\", \"\", text, flags=re.UNICODE)\n",
    "        words = re.split(\"\\W*\\s+\\W*\", text, flags=re.UNICODE)\n",
    "        words = [word.lower() for word in words]\n",
    "        return words\n",
    "    except ValueError as e:\n",
    "        return []"
   ]
  },
  {
   "cell_type": "code",
   "execution_count": 6,
   "metadata": {},
   "outputs": [],
   "source": [
    "wiki = sc.textFile(\"/data/wiki/en_articles_part/articles-part\", 16).map(parse_article)\n",
    "\n",
    "wiki_filtered = wiki.filter(lambda x: x != [])\n",
    "wiki_filtered = wiki_filtered.map(lambda x: [word for word in x if word not in stop_words])"
   ]
  },
  {
   "cell_type": "code",
   "execution_count": 7,
   "metadata": {},
   "outputs": [],
   "source": [
    "total_words = wiki_filtered.map(lambda words: len(words)).reduce(lambda a,b: a+b)\n",
    "\n",
    "wiki_mapped = wiki_filtered.flatMap(lambda words: list(zip(words[:-1], words[1:])))\n",
    "\n",
    "total_pairs = wiki_mapped.map(lambda words: 1).reduce(lambda x,y: x+y)"
   ]
  },
  {
   "cell_type": "code",
   "execution_count": 8,
   "metadata": {},
   "outputs": [],
   "source": [
    "word_occur = wiki_filtered.flatMap(lambda words: [(word, 1) for word in words]).reduceByKey(lambda x,y: x+y)\n",
    "word_occur = word_occur.collect()\n",
    "word_count_dict = dict()\n",
    "for word, count in word_occur:\n",
    "    word_count_dict[word] = count"
   ]
  },
  {
   "cell_type": "code",
   "execution_count": 35,
   "metadata": {},
   "outputs": [],
   "source": [
    "total_words = float(total_words)\n",
    "total_pairs = float(total_pairs)"
   ]
  },
  {
   "cell_type": "code",
   "execution_count": 9,
   "metadata": {},
   "outputs": [],
   "source": [
    "wiki_mostoccur = wiki_mapped.map(lambda x: (x,1)).reduceByKey(lambda x,y: x+y).filter(lambda x: x[1] >= 500)\n",
    "wiki_npmi = wiki_mostoccur.map(lambda (word, count): (word, npmi(word[0], word[1], count, \n",
    "                                                                 word_count_dict, total_words, total_pairs)))"
   ]
  },
  {
   "cell_type": "code",
   "execution_count": 37,
   "metadata": {},
   "outputs": [
    {
     "name": "stdout",
     "output_type": "stream",
     "text": [
      "los_angeles\n",
      "external_links\n",
      "united_states\n",
      "prime_minister\n",
      "san_francisco\n",
      "et_al\n",
      "new_york\n",
      "supreme_court\n",
      "19th_century\n",
      "20th_century\n",
      "references_external\n",
      "soviet_union\n",
      "air_force\n",
      "baseball_player\n",
      "university_press\n",
      "roman_catholic\n",
      "united_kingdom\n",
      "references_reading\n",
      "notes_references\n",
      "award_best\n",
      "north_america\n",
      "new_zealand\n",
      "civil_war\n",
      "catholic_church\n",
      "world_war\n",
      "war_ii\n",
      "south_africa\n",
      "took_place\n",
      "roman_empire\n",
      "united_nations\n",
      "american_singer-songwriter\n",
      "high_school\n",
      "american_actor\n",
      "american_actress\n",
      "american_baseball\n",
      "york_city\n",
      "american_football\n",
      "years_later\n",
      "north_american\n"
     ]
    }
   ],
   "source": [
    "wiki_npmi =  wiki_npmi.map(lambda (word, npmi_value): (npmi_value, word)) \\\n",
    "                      .sortByKey(ascending=False) \\\n",
    "                      .map(lambda (npmi_value, word): word[0]+'_'+word[1])\n",
    "\n",
    "for pair in wiki_npmi.take(39):\n",
    "    print \"%s\" % (pair)"
   ]
  },
  {
   "cell_type": "code",
   "execution_count": null,
   "metadata": {},
   "outputs": [],
   "source": []
  }
 ],
 "metadata": {
  "kernelspec": {
   "display_name": "Python 2",
   "language": "python",
   "name": "python2"
  },
  "language_info": {
   "codemirror_mode": {
    "name": "ipython",
    "version": 2
   },
   "file_extension": ".py",
   "mimetype": "text/x-python",
   "name": "python",
   "nbconvert_exporter": "python",
   "pygments_lexer": "ipython2",
   "version": "2.7.12"
  }
 },
 "nbformat": 4,
 "nbformat_minor": 2
}
